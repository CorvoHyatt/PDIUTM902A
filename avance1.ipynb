{
 "cells": [
  {
   "cell_type": "code",
   "execution_count": 6,
   "metadata": {},
   "outputs": [
    {
     "name": "stdout",
     "output_type": "stream",
     "text": [
      "[[[178 173 177]\n",
      "  [179 174 178]\n",
      "  [179 174 178]\n",
      "  ...\n",
      "  [140 134 134]\n",
      "  [137 131 131]\n",
      "  [135 129 129]]\n",
      "\n",
      " [[177 172 176]\n",
      "  [178 173 177]\n",
      "  [178 173 177]\n",
      "  ...\n",
      "  [139 133 133]\n",
      "  [137 131 131]\n",
      "  [135 129 129]]\n",
      "\n",
      " [[176 171 175]\n",
      "  [176 171 175]\n",
      "  [177 172 176]\n",
      "  ...\n",
      "  [131 125 125]\n",
      "  [129 123 123]\n",
      "  [127 121 121]]\n",
      "\n",
      " ...\n",
      "\n",
      " [[175 171 168]\n",
      "  [176 172 169]\n",
      "  [178 174 171]\n",
      "  ...\n",
      "  [128 117 115]\n",
      "  [129 118 116]\n",
      "  [126 115 113]]\n",
      "\n",
      " [[175 171 168]\n",
      "  [176 172 169]\n",
      "  [177 173 170]\n",
      "  ...\n",
      "  [126 115 113]\n",
      "  [127 116 114]\n",
      "  [123 112 110]]\n",
      "\n",
      " [[172 168 165]\n",
      "  [173 169 166]\n",
      "  [174 170 167]\n",
      "  ...\n",
      "  [125 114 112]\n",
      "  [126 115 113]\n",
      "  [122 111 109]]]\n"
     ]
    }
   ],
   "source": [
    "from skimage import io\n",
    "import matplotlib.pyplot as plt\n",
    "# Lee la imagen desde el archivo\n",
    "imagen = io.imread('imagenes/early_blight/1.jpg')\n",
    "\n",
    "# Crea una figura con tres subgráficos en una fila\n",
    "fig, axes = plt.subplots(1, 3, figsize=(10, 3))\n",
    "\n",
    "# Muestra cada imagen en un subgráfico\n",
    "axes[0].imshow(imagen)\n",
    "axes[0].set_title('Imagen 1')\n",
    "\n",
    "axes[1].imshow(imagen)\n",
    "axes[1].set_title('Imagen 2')\n",
    "\n",
    "axes[2].imshow(imagen)\n",
    "axes[2].set_title('Imagen 3')\n",
    "\n",
    "# Ajusta el diseño de la figura\n",
    "plt.tight_layout()\n",
    "\n",
    "# Muestra la figura\n",
    "plt.show()"
   ]
  }
 ],
 "metadata": {
  "kernelspec": {
   "display_name": "base",
   "language": "python",
   "name": "python3"
  },
  "language_info": {
   "codemirror_mode": {
    "name": "ipython",
    "version": 3
   },
   "file_extension": ".py",
   "mimetype": "text/x-python",
   "name": "python",
   "nbconvert_exporter": "python",
   "pygments_lexer": "ipython3",
   "version": "3.11.5"
  }
 },
 "nbformat": 4,
 "nbformat_minor": 2
}
